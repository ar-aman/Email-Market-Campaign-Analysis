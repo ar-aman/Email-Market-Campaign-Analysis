{
 "cells": [
  {
   "cell_type": "markdown",
   "id": "26e7cd09",
   "metadata": {},
   "source": [
    "## EMAIL MARKETING CAMPAIGN ANALYSIS\n",
    "\n",
    "GOAL: Optimizing marketing campaigns is one of the most common data science tasks. Among the many marketing tools available, emails stand out as particularly efficient."
   ]
  },
  {
   "cell_type": "markdown",
   "id": "88aee03e",
   "metadata": {},
   "source": [
    "## Importing necessary libraries\n"
   ]
  },
  {
   "cell_type": "code",
   "execution_count": 1,
   "id": "1e43f7ab",
   "metadata": {},
   "outputs": [],
   "source": [
    "import pandas as pd\n",
    "import numpy as np\n",
    "import matplotlib.pyplot as plt\n",
    "import seaborn as sns\n",
    "\n",
    "from xgboost import XGBClassifier\n",
    "from sklearn.model_selection import train_test_split\n",
    "from sklearn.preprocessing import LabelEncoder\n",
    "from sklearn.metrics import classification_report, roc_auc_score, confusion_matrix\n",
    "import seaborn as sns\n",
    "import matplotlib.pyplot as plt"
   ]
  },
  {
   "cell_type": "markdown",
   "id": "4d229fe3",
   "metadata": {},
   "source": [
    "## Importing the datasets"
   ]
  },
  {
   "cell_type": "code",
   "execution_count": 2,
   "id": "6e11acd6",
   "metadata": {},
   "outputs": [],
   "source": [
    "opened_df = pd.read_csv(r'data/email_opened_table.csv')\n",
    "email_df = pd.read_csv(r'data/email_table.csv')\n",
    "clicked_df = pd.read_csv(r'data/link_clicked_table.csv')"
   ]
  },
  {
   "cell_type": "code",
   "execution_count": 3,
   "id": "701876b8",
   "metadata": {},
   "outputs": [
    {
     "name": "stdout",
     "output_type": "stream",
     "text": [
      "shape (10345, 1)\n"
     ]
    },
    {
     "data": {
      "text/html": [
       "<div>\n",
       "<style scoped>\n",
       "    .dataframe tbody tr th:only-of-type {\n",
       "        vertical-align: middle;\n",
       "    }\n",
       "\n",
       "    .dataframe tbody tr th {\n",
       "        vertical-align: top;\n",
       "    }\n",
       "\n",
       "    .dataframe thead th {\n",
       "        text-align: right;\n",
       "    }\n",
       "</style>\n",
       "<table border=\"1\" class=\"dataframe\">\n",
       "  <thead>\n",
       "    <tr style=\"text-align: right;\">\n",
       "      <th></th>\n",
       "      <th>email_id</th>\n",
       "    </tr>\n",
       "  </thead>\n",
       "  <tbody>\n",
       "    <tr>\n",
       "      <th>0</th>\n",
       "      <td>284534</td>\n",
       "    </tr>\n",
       "    <tr>\n",
       "      <th>1</th>\n",
       "      <td>609056</td>\n",
       "    </tr>\n",
       "    <tr>\n",
       "      <th>2</th>\n",
       "      <td>220820</td>\n",
       "    </tr>\n",
       "    <tr>\n",
       "      <th>3</th>\n",
       "      <td>905936</td>\n",
       "    </tr>\n",
       "    <tr>\n",
       "      <th>4</th>\n",
       "      <td>164034</td>\n",
       "    </tr>\n",
       "  </tbody>\n",
       "</table>\n",
       "</div>"
      ],
      "text/plain": [
       "   email_id\n",
       "0    284534\n",
       "1    609056\n",
       "2    220820\n",
       "3    905936\n",
       "4    164034"
      ]
     },
     "execution_count": 3,
     "metadata": {},
     "output_type": "execute_result"
    }
   ],
   "source": [
    "print('shape', opened_df.shape)\n",
    "opened_df.head()"
   ]
  },
  {
   "cell_type": "code",
   "execution_count": 4,
   "id": "08d6c30f",
   "metadata": {},
   "outputs": [
    {
     "name": "stdout",
     "output_type": "stream",
     "text": [
      "shape: (100000, 7)\n"
     ]
    },
    {
     "data": {
      "text/html": [
       "<div>\n",
       "<style scoped>\n",
       "    .dataframe tbody tr th:only-of-type {\n",
       "        vertical-align: middle;\n",
       "    }\n",
       "\n",
       "    .dataframe tbody tr th {\n",
       "        vertical-align: top;\n",
       "    }\n",
       "\n",
       "    .dataframe thead th {\n",
       "        text-align: right;\n",
       "    }\n",
       "</style>\n",
       "<table border=\"1\" class=\"dataframe\">\n",
       "  <thead>\n",
       "    <tr style=\"text-align: right;\">\n",
       "      <th></th>\n",
       "      <th>email_id</th>\n",
       "      <th>email_text</th>\n",
       "      <th>email_version</th>\n",
       "      <th>hour</th>\n",
       "      <th>weekday</th>\n",
       "      <th>user_country</th>\n",
       "      <th>user_past_purchases</th>\n",
       "    </tr>\n",
       "  </thead>\n",
       "  <tbody>\n",
       "    <tr>\n",
       "      <th>0</th>\n",
       "      <td>85120</td>\n",
       "      <td>short_email</td>\n",
       "      <td>personalized</td>\n",
       "      <td>2</td>\n",
       "      <td>Sunday</td>\n",
       "      <td>US</td>\n",
       "      <td>5</td>\n",
       "    </tr>\n",
       "    <tr>\n",
       "      <th>1</th>\n",
       "      <td>966622</td>\n",
       "      <td>long_email</td>\n",
       "      <td>personalized</td>\n",
       "      <td>12</td>\n",
       "      <td>Sunday</td>\n",
       "      <td>UK</td>\n",
       "      <td>2</td>\n",
       "    </tr>\n",
       "    <tr>\n",
       "      <th>2</th>\n",
       "      <td>777221</td>\n",
       "      <td>long_email</td>\n",
       "      <td>personalized</td>\n",
       "      <td>11</td>\n",
       "      <td>Wednesday</td>\n",
       "      <td>US</td>\n",
       "      <td>2</td>\n",
       "    </tr>\n",
       "    <tr>\n",
       "      <th>3</th>\n",
       "      <td>493711</td>\n",
       "      <td>short_email</td>\n",
       "      <td>generic</td>\n",
       "      <td>6</td>\n",
       "      <td>Monday</td>\n",
       "      <td>UK</td>\n",
       "      <td>1</td>\n",
       "    </tr>\n",
       "    <tr>\n",
       "      <th>4</th>\n",
       "      <td>106887</td>\n",
       "      <td>long_email</td>\n",
       "      <td>generic</td>\n",
       "      <td>14</td>\n",
       "      <td>Monday</td>\n",
       "      <td>US</td>\n",
       "      <td>6</td>\n",
       "    </tr>\n",
       "  </tbody>\n",
       "</table>\n",
       "</div>"
      ],
      "text/plain": [
       "   email_id   email_text email_version  hour    weekday user_country  \\\n",
       "0     85120  short_email  personalized     2     Sunday           US   \n",
       "1    966622   long_email  personalized    12     Sunday           UK   \n",
       "2    777221   long_email  personalized    11  Wednesday           US   \n",
       "3    493711  short_email       generic     6     Monday           UK   \n",
       "4    106887   long_email       generic    14     Monday           US   \n",
       "\n",
       "   user_past_purchases  \n",
       "0                    5  \n",
       "1                    2  \n",
       "2                    2  \n",
       "3                    1  \n",
       "4                    6  "
      ]
     },
     "execution_count": 4,
     "metadata": {},
     "output_type": "execute_result"
    }
   ],
   "source": [
    "print('shape:',email_df.shape)\n",
    "email_df.head()"
   ]
  },
  {
   "cell_type": "code",
   "execution_count": 5,
   "id": "daeccb04",
   "metadata": {},
   "outputs": [
    {
     "name": "stdout",
     "output_type": "stream",
     "text": [
      "shape: (2119, 1)\n"
     ]
    },
    {
     "data": {
      "text/html": [
       "<div>\n",
       "<style scoped>\n",
       "    .dataframe tbody tr th:only-of-type {\n",
       "        vertical-align: middle;\n",
       "    }\n",
       "\n",
       "    .dataframe tbody tr th {\n",
       "        vertical-align: top;\n",
       "    }\n",
       "\n",
       "    .dataframe thead th {\n",
       "        text-align: right;\n",
       "    }\n",
       "</style>\n",
       "<table border=\"1\" class=\"dataframe\">\n",
       "  <thead>\n",
       "    <tr style=\"text-align: right;\">\n",
       "      <th></th>\n",
       "      <th>email_id</th>\n",
       "    </tr>\n",
       "  </thead>\n",
       "  <tbody>\n",
       "    <tr>\n",
       "      <th>0</th>\n",
       "      <td>609056</td>\n",
       "    </tr>\n",
       "    <tr>\n",
       "      <th>1</th>\n",
       "      <td>870980</td>\n",
       "    </tr>\n",
       "    <tr>\n",
       "      <th>2</th>\n",
       "      <td>935124</td>\n",
       "    </tr>\n",
       "    <tr>\n",
       "      <th>3</th>\n",
       "      <td>158501</td>\n",
       "    </tr>\n",
       "    <tr>\n",
       "      <th>4</th>\n",
       "      <td>177561</td>\n",
       "    </tr>\n",
       "  </tbody>\n",
       "</table>\n",
       "</div>"
      ],
      "text/plain": [
       "   email_id\n",
       "0    609056\n",
       "1    870980\n",
       "2    935124\n",
       "3    158501\n",
       "4    177561"
      ]
     },
     "execution_count": 5,
     "metadata": {},
     "output_type": "execute_result"
    }
   ],
   "source": [
    "print('shape:',clicked_df.shape)\n",
    "clicked_df.head()"
   ]
  },
  {
   "cell_type": "markdown",
   "id": "43b4b70d",
   "metadata": {},
   "source": [
    "## Merging the tables to create the target dataset"
   ]
  },
  {
   "cell_type": "code",
   "execution_count": 6,
   "id": "c7ff7d35",
   "metadata": {},
   "outputs": [],
   "source": [
    "email_df[\"opened\"] = email_df[\"email_id\"].isin(opened_df[\"email_id\"]).astype(int)\n",
    "email_df[\"clicked\"] = email_df[\"email_id\"].isin(clicked_df[\"email_id\"]).astype(int)"
   ]
  },
  {
   "cell_type": "code",
   "execution_count": 7,
   "id": "5ccdf711",
   "metadata": {},
   "outputs": [
    {
     "data": {
      "text/html": [
       "<div>\n",
       "<style scoped>\n",
       "    .dataframe tbody tr th:only-of-type {\n",
       "        vertical-align: middle;\n",
       "    }\n",
       "\n",
       "    .dataframe tbody tr th {\n",
       "        vertical-align: top;\n",
       "    }\n",
       "\n",
       "    .dataframe thead th {\n",
       "        text-align: right;\n",
       "    }\n",
       "</style>\n",
       "<table border=\"1\" class=\"dataframe\">\n",
       "  <thead>\n",
       "    <tr style=\"text-align: right;\">\n",
       "      <th></th>\n",
       "      <th>email_id</th>\n",
       "      <th>email_text</th>\n",
       "      <th>email_version</th>\n",
       "      <th>hour</th>\n",
       "      <th>weekday</th>\n",
       "      <th>user_country</th>\n",
       "      <th>user_past_purchases</th>\n",
       "      <th>opened</th>\n",
       "      <th>clicked</th>\n",
       "    </tr>\n",
       "  </thead>\n",
       "  <tbody>\n",
       "    <tr>\n",
       "      <th>0</th>\n",
       "      <td>85120</td>\n",
       "      <td>short_email</td>\n",
       "      <td>personalized</td>\n",
       "      <td>2</td>\n",
       "      <td>Sunday</td>\n",
       "      <td>US</td>\n",
       "      <td>5</td>\n",
       "      <td>0</td>\n",
       "      <td>0</td>\n",
       "    </tr>\n",
       "    <tr>\n",
       "      <th>1</th>\n",
       "      <td>966622</td>\n",
       "      <td>long_email</td>\n",
       "      <td>personalized</td>\n",
       "      <td>12</td>\n",
       "      <td>Sunday</td>\n",
       "      <td>UK</td>\n",
       "      <td>2</td>\n",
       "      <td>1</td>\n",
       "      <td>1</td>\n",
       "    </tr>\n",
       "    <tr>\n",
       "      <th>2</th>\n",
       "      <td>777221</td>\n",
       "      <td>long_email</td>\n",
       "      <td>personalized</td>\n",
       "      <td>11</td>\n",
       "      <td>Wednesday</td>\n",
       "      <td>US</td>\n",
       "      <td>2</td>\n",
       "      <td>0</td>\n",
       "      <td>0</td>\n",
       "    </tr>\n",
       "    <tr>\n",
       "      <th>3</th>\n",
       "      <td>493711</td>\n",
       "      <td>short_email</td>\n",
       "      <td>generic</td>\n",
       "      <td>6</td>\n",
       "      <td>Monday</td>\n",
       "      <td>UK</td>\n",
       "      <td>1</td>\n",
       "      <td>0</td>\n",
       "      <td>0</td>\n",
       "    </tr>\n",
       "    <tr>\n",
       "      <th>4</th>\n",
       "      <td>106887</td>\n",
       "      <td>long_email</td>\n",
       "      <td>generic</td>\n",
       "      <td>14</td>\n",
       "      <td>Monday</td>\n",
       "      <td>US</td>\n",
       "      <td>6</td>\n",
       "      <td>0</td>\n",
       "      <td>0</td>\n",
       "    </tr>\n",
       "  </tbody>\n",
       "</table>\n",
       "</div>"
      ],
      "text/plain": [
       "   email_id   email_text email_version  hour    weekday user_country  \\\n",
       "0     85120  short_email  personalized     2     Sunday           US   \n",
       "1    966622   long_email  personalized    12     Sunday           UK   \n",
       "2    777221   long_email  personalized    11  Wednesday           US   \n",
       "3    493711  short_email       generic     6     Monday           UK   \n",
       "4    106887   long_email       generic    14     Monday           US   \n",
       "\n",
       "   user_past_purchases  opened  clicked  \n",
       "0                    5       0        0  \n",
       "1                    2       1        1  \n",
       "2                    2       0        0  \n",
       "3                    1       0        0  \n",
       "4                    6       0        0  "
      ]
     },
     "execution_count": 7,
     "metadata": {},
     "output_type": "execute_result"
    }
   ],
   "source": [
    "email_df.head()"
   ]
  },
  {
   "cell_type": "markdown",
   "id": "bbe4ecc1",
   "metadata": {},
   "source": [
    "## Exploratory Data Analysis"
   ]
  },
  {
   "cell_type": "code",
   "execution_count": 8,
   "id": "c22aa904",
   "metadata": {},
   "outputs": [
    {
     "data": {
      "text/plain": [
       "clicked\n",
       "0    97881\n",
       "1     2119\n",
       "Name: count, dtype: int64"
      ]
     },
     "execution_count": 8,
     "metadata": {},
     "output_type": "execute_result"
    }
   ],
   "source": [
    "email_df['clicked'].value_counts()"
   ]
  },
  {
   "cell_type": "code",
   "execution_count": 9,
   "id": "48d6c918",
   "metadata": {},
   "outputs": [
    {
     "data": {
      "text/plain": [
       "opened\n",
       "0    89655\n",
       "1    10345\n",
       "Name: count, dtype: int64"
      ]
     },
     "execution_count": 9,
     "metadata": {},
     "output_type": "execute_result"
    }
   ],
   "source": [
    "email_df['opened'].value_counts()"
   ]
  },
  {
   "cell_type": "code",
   "execution_count": 10,
   "id": "c22fe7cb",
   "metadata": {},
   "outputs": [],
   "source": [
    "email_df = email_df.drop(columns=[\"email_id\"])"
   ]
  },
  {
   "cell_type": "code",
   "execution_count": 11,
   "id": "d00ecb8a",
   "metadata": {},
   "outputs": [],
   "source": [
    "total_emails = email_df.shape[0]\n",
    "opened = email_df[\"opened\"].sum()\n",
    "clicked = email_df[\"clicked\"].sum()"
   ]
  },
  {
   "cell_type": "code",
   "execution_count": 12,
   "id": "8175985b",
   "metadata": {},
   "outputs": [
    {
     "name": "stdout",
     "output_type": "stream",
     "text": [
      "Total Emails Sent: 100000\n",
      "Open Rate: 10.35%\n",
      "Click Rate: 2.12%\n",
      "Click to Open Rate: 20.48%\n"
     ]
    }
   ],
   "source": [
    "print(f\"Total Emails Sent: {total_emails}\")\n",
    "print(f\"Open Rate: {opened / total_emails:.2%}\")\n",
    "print(f\"Click Rate: {clicked / total_emails:.2%}\")\n",
    "print(f\"Click to Open Rate: {clicked / opened:.2%}\")"
   ]
  },
  {
   "cell_type": "markdown",
   "id": "39be6219",
   "metadata": {},
   "source": [
    "## Comparing Click Through Rate based on length of email [short and long]"
   ]
  },
  {
   "cell_type": "code",
   "execution_count": 13,
   "id": "47cfca28",
   "metadata": {},
   "outputs": [
    {
     "name": "stdout",
     "output_type": "stream",
     "text": [
      "email_text     long_email  short_email\n",
      "email_version                         \n",
      "generic          0.013711     0.016578\n",
      "personalized     0.023403     0.031231\n"
     ]
    },
    {
     "data": {
      "image/png": "[encoded data removed]",
      "text/plain": [
       "<Figure size 800x500 with 1 Axes>"
      ]
     },
     "metadata": {},
     "output_type": "display_data"
    }
   ],
   "source": [
    "pivot = email_df.groupby([\"email_version\", \"email_text\"])[\"clicked\"].mean().unstack()\n",
    "print(pivot)\n",
    "pivot.plot(kind='bar', figsize=(8, 5), title=\"Click-through Rate by Email Type\")\n",
    "plt.ylabel(\"Click Rate\")\n",
    "plt.show()"
   ]
  },
  {
   "cell_type": "markdown",
   "id": "6d3c1713",
   "metadata": {},
   "source": [
    "We can see that the emails that are personalised and short performed better than the others."
   ]
  },
  {
   "cell_type": "code",
   "execution_count": 14,
   "id": "725696a2",
   "metadata": {},
   "outputs": [
    {
     "data": {
      "image/png": "[encoded data removed]",
      "text/plain": [
       "<Figure size 640x480 with 1 Axes>"
      ]
     },
     "metadata": {},
     "output_type": "display_data"
    }
   ],
   "source": [
    "weekday_ctr = email_df.groupby(\"weekday\")[\"clicked\"].mean()\n",
    "weekday_ctr.plot(kind='bar', title=\"Click-through Rate by Weekday\")\n",
    "plt.ylabel(\"Click Rate\")\n",
    "plt.show()"
   ]
  },
  {
   "cell_type": "markdown",
   "id": "0050585c",
   "metadata": {},
   "source": [
    "We can see that the emails sent on the working days of the week have better chances than the ones sent on weekends."
   ]
  },
  {
   "cell_type": "markdown",
   "id": "e2ed2c0e",
   "metadata": {},
   "source": [
    "## Feature Engineering"
   ]
  },
  {
   "cell_type": "code",
   "execution_count": 15,
   "id": "ec1f00a5",
   "metadata": {},
   "outputs": [],
   "source": [
    "features = [\"hour\", \"weekday\", \"user_country\", \"email_text\", \"email_version\", \"user_past_purchases\"]\n",
    "X = email_df[features].copy()\n",
    "y = email_df[\"clicked\"]"
   ]
  },
  {
   "cell_type": "code",
   "execution_count": 16,
   "id": "457689bb",
   "metadata": {},
   "outputs": [],
   "source": [
    "le_text = LabelEncoder()\n",
    "le_version = LabelEncoder()\n",
    "le_country = LabelEncoder()\n",
    "le_day = LabelEncoder()"
   ]
  },
  {
   "cell_type": "code",
   "execution_count": 17,
   "id": "65a635c1",
   "metadata": {},
   "outputs": [],
   "source": [
    "X[\"email_text\"] = le_text.fit_transform(X[\"email_text\"])\n",
    "X[\"email_version\"] = le_version.fit_transform(X[\"email_version\"])\n",
    "X[\"user_country\"] = le_country.fit_transform(X[\"user_country\"])\n",
    "X[\"weekday\"] = le_day.fit_transform(X[\"weekday\"])"
   ]
  },
  {
   "cell_type": "markdown",
   "id": "ec8fe957",
   "metadata": {},
   "source": [
    "## Splitting the Dataset"
   ]
  },
  {
   "cell_type": "code",
   "execution_count": 18,
   "id": "fd55e2c2",
   "metadata": {},
   "outputs": [],
   "source": [
    "X_train, X_test, y_train, y_test = train_test_split(X, y, test_size=0.3, random_state=42)"
   ]
  },
  {
   "cell_type": "markdown",
   "id": "d43a5598",
   "metadata": {},
   "source": [
    "## Training the model"
   ]
  },
  {
   "cell_type": "code",
   "execution_count": 19,
   "id": "1dd5dc43",
   "metadata": {},
   "outputs": [],
   "source": [
    "scale = (y_train.shape[0] - sum(y_train)) / sum(y_train)"
   ]
  },
  {
   "cell_type": "code",
   "execution_count": 20,
   "id": "075740ad",
   "metadata": {},
   "outputs": [],
   "source": [
    "xgb_model = XGBClassifier(\n",
    "    use_label_encoder=False,\n",
    "    eval_metric='logloss',\n",
    "    scale_pos_weight=scale,\n",
    "    random_state=42\n",
    ")"
   ]
  },
  {
   "cell_type": "code",
   "execution_count": 21,
   "id": "5188e1f8",
   "metadata": {},
   "outputs": [
    {
     "name": "stderr",
     "output_type": "stream",
     "text": [
      "C:\\Users\\amanr\\AppData\\Roaming\\Python\\Python312\\site-packages\\xgboost\\training.py:183: UserWarning: [03:29:11] WARNING: C:\\actions-runner\\_work\\xgboost\\xgboost\\src\\learner.cc:738: \n",
      "Parameters: { \"use_label_encoder\" } are not used.\n",
      "\n",
      "  bst.update(dtrain, iteration=i, fobj=obj)\n"
     ]
    }
   ],
   "source": [
    "xgb_model.fit(X_train, y_train);"
   ]
  },
  {
   "cell_type": "markdown",
   "id": "4c8ae9c4",
   "metadata": {},
   "source": [
    "## Classification Report:"
   ]
  },
  {
   "cell_type": "code",
   "execution_count": 22,
   "id": "6f4bdd02",
   "metadata": {},
   "outputs": [],
   "source": [
    "y_pred = xgb_model.predict(X_test)\n",
    "y_proba = xgb_model.predict_proba(X_test)[:, 1]"
   ]
  },
  {
   "cell_type": "code",
   "execution_count": 23,
   "id": "c1a4c937",
   "metadata": {},
   "outputs": [
    {
     "name": "stdout",
     "output_type": "stream",
     "text": [
      "              precision    recall  f1-score   support\n",
      "\n",
      "           0       0.99      0.71      0.83     29326\n",
      "           1       0.04      0.54      0.08       674\n",
      "\n",
      "    accuracy                           0.71     30000\n",
      "   macro avg       0.51      0.63      0.45     30000\n",
      "weighted avg       0.96      0.71      0.81     30000\n",
      "\n",
      "ROC-AUC Score: 0.6856585673259427\n"
     ]
    }
   ],
   "source": [
    "print(classification_report(y_test, y_pred))\n",
    "print(\"ROC-AUC Score:\", roc_auc_score(y_test, y_proba))"
   ]
  },
  {
   "cell_type": "code",
   "execution_count": 24,
   "id": "d1d34134",
   "metadata": {},
   "outputs": [
    {
     "data": {
      "image/png": "[encoded data removed]",
      "text/plain": [
       "<Figure size 640x480 with 2 Axes>"
      ]
     },
     "metadata": {},
     "output_type": "display_data"
    }
   ],
   "source": [
    "sns.heatmap(confusion_matrix(y_test, y_pred), annot=True, fmt=\"d\", cmap=\"Blues\")\n",
    "plt.title(\"Confusion Matrix\")\n",
    "plt.show()"
   ]
  },
  {
   "cell_type": "markdown",
   "id": "5c67ebca",
   "metadata": {},
   "source": [
    "## Most Important Features"
   ]
  },
  {
   "cell_type": "code",
   "execution_count": 25,
   "id": "9e15531a",
   "metadata": {},
   "outputs": [
    {
     "data": {
      "image/png": "[encoded data removed]",
      "text/plain": [
       "<Figure size 640x480 with 1 Axes>"
      ]
     },
     "metadata": {},
     "output_type": "display_data"
    }
   ],
   "source": [
    "feat_imp = pd.Series(xgb_model.feature_importances_, index=X.columns)\n",
    "feat_imp.sort_values().plot(kind=\"barh\", title=\"Feature Importance\")\n",
    "plt.xlabel(\"Importance Score\")\n",
    "plt.show()"
   ]
  },
  {
   "cell_type": "markdown",
   "id": "e1681e95",
   "metadata": {},
   "source": [
    "The most important features for predicting clicks are user_past_purchases, email_version, and hour. These features should be prioritized when optimizing email campaigns."
   ]
  },
  {
   "cell_type": "markdown",
   "id": "b66990cc",
   "metadata": {},
   "source": [
    "## Click Through Rate"
   ]
  },
  {
   "cell_type": "code",
   "execution_count": 26,
   "id": "ad3bea49",
   "metadata": {},
   "outputs": [
    {
     "name": "stdout",
     "output_type": "stream",
     "text": [
      "Baseline CTR: 2.25%\n",
      "Model-Predicted Top 30% CTR: 4.10%\n",
      "Estimated Improvement: 1.85%\n"
     ]
    }
   ],
   "source": [
    "X_test_copy = X_test.copy()\n",
    "X_test_copy[\"proba\"] = y_proba\n",
    "X_test_copy[\"actual\"] = y_test.values\n",
    "\n",
    "threshold = X_test_copy[\"proba\"].quantile(0.70)\n",
    "top_users = X_test_copy[X_test_copy[\"proba\"] >= threshold]\n",
    "\n",
    "model_ctr = top_users[\"actual\"].mean()\n",
    "baseline_ctr = y_test.mean()\n",
    "\n",
    "print(f\"Baseline CTR: {baseline_ctr:.2%}\")\n",
    "print(f\"Model-Predicted Top 30% CTR: {model_ctr:.2%}\")\n",
    "print(f\"Estimated Improvement: {model_ctr - baseline_ctr:.2%}\")"
   ]
  },
  {
   "cell_type": "markdown",
   "id": "2da8f223",
   "metadata": {},
   "source": [
    "## INSIGHTS:\n",
    "\n",
    "- **Email Open Rate**: Around 10.35%\n",
    "- **Click Rate**: Around 2.12%\n",
    "- **Best Performing Segment**: Short + Personalized emails sent to past customers on weekdays before noon.\n",
    "- **Model ROC-AUC**: 0.685 (indicating improvement over random guessing)\n",
    "- **Most Important Features**: `user_past_purchases`, `email_version`, `hour`\n",
    "- **CTR Boost**: 1.85% if targeting top 30% predicted users\n",
    "\n",
    "\n",
    "## **Collecting more data and ensuring all numerical values are validated can improve classification results.**"
   ]
  },
  {
   "cell_type": "markdown",
   "id": "a79780ad",
   "metadata": {},
   "source": [
    "## Note: Handling the imbalace\n",
    "The given data is highly imbalanced. The ratio of not clicked email data to clicked email data is **4.62 : 1**.\n",
    "Thus, the classification is not accurate.\n",
    "\n",
    "To make the classification more accurate, I am balancing the data by shortening the not clicked email data.To handle the data imbalance, we undersample the majority class (not clicked emails) to match the size of the minority class (clicked emails). This balancing improves the classification accuracy."
   ]
  },
  {
   "cell_type": "code",
   "execution_count": 27,
   "id": "e9d2b34b",
   "metadata": {},
   "outputs": [],
   "source": [
    "copy_email_df = email_df.copy()"
   ]
  },
  {
   "cell_type": "code",
   "execution_count": 28,
   "id": "d0c6a7ea",
   "metadata": {},
   "outputs": [],
   "source": [
    "df_a = copy_email_df[copy_email_df['clicked'] == 1]"
   ]
  },
  {
   "cell_type": "code",
   "execution_count": 29,
   "id": "dfd52ce6",
   "metadata": {},
   "outputs": [],
   "source": [
    "len = df_a.shape[0]"
   ]
  },
  {
   "cell_type": "code",
   "execution_count": 30,
   "id": "a9d82e60",
   "metadata": {},
   "outputs": [],
   "source": [
    "df_b = email_df[email_df['clicked'] == 0][:len]"
   ]
  },
  {
   "cell_type": "code",
   "execution_count": 31,
   "id": "c712bd34",
   "metadata": {},
   "outputs": [],
   "source": [
    "new_df = pd.concat([df_a, df_b], axis = 0).sample(frac=1).reset_index(drop=True)"
   ]
  },
  {
   "cell_type": "code",
   "execution_count": 32,
   "id": "27159d50",
   "metadata": {},
   "outputs": [
    {
     "data": {
      "text/html": [
       "<div>\n",
       "<style scoped>\n",
       "    .dataframe tbody tr th:only-of-type {\n",
       "        vertical-align: middle;\n",
       "    }\n",
       "\n",
       "    .dataframe tbody tr th {\n",
       "        vertical-align: top;\n",
       "    }\n",
       "\n",
       "    .dataframe thead th {\n",
       "        text-align: right;\n",
       "    }\n",
       "</style>\n",
       "<table border=\"1\" class=\"dataframe\">\n",
       "  <thead>\n",
       "    <tr style=\"text-align: right;\">\n",
       "      <th></th>\n",
       "      <th>email_text</th>\n",
       "      <th>email_version</th>\n",
       "      <th>hour</th>\n",
       "      <th>weekday</th>\n",
       "      <th>user_country</th>\n",
       "      <th>user_past_purchases</th>\n",
       "      <th>opened</th>\n",
       "      <th>clicked</th>\n",
       "    </tr>\n",
       "  </thead>\n",
       "  <tbody>\n",
       "    <tr>\n",
       "      <th>0</th>\n",
       "      <td>short_email</td>\n",
       "      <td>generic</td>\n",
       "      <td>8</td>\n",
       "      <td>Friday</td>\n",
       "      <td>US</td>\n",
       "      <td>2</td>\n",
       "      <td>1</td>\n",
       "      <td>0</td>\n",
       "    </tr>\n",
       "    <tr>\n",
       "      <th>1</th>\n",
       "      <td>short_email</td>\n",
       "      <td>generic</td>\n",
       "      <td>11</td>\n",
       "      <td>Tuesday</td>\n",
       "      <td>US</td>\n",
       "      <td>11</td>\n",
       "      <td>1</td>\n",
       "      <td>1</td>\n",
       "    </tr>\n",
       "    <tr>\n",
       "      <th>2</th>\n",
       "      <td>long_email</td>\n",
       "      <td>generic</td>\n",
       "      <td>12</td>\n",
       "      <td>Monday</td>\n",
       "      <td>US</td>\n",
       "      <td>11</td>\n",
       "      <td>1</td>\n",
       "      <td>1</td>\n",
       "    </tr>\n",
       "    <tr>\n",
       "      <th>3</th>\n",
       "      <td>long_email</td>\n",
       "      <td>generic</td>\n",
       "      <td>9</td>\n",
       "      <td>Friday</td>\n",
       "      <td>US</td>\n",
       "      <td>9</td>\n",
       "      <td>0</td>\n",
       "      <td>0</td>\n",
       "    </tr>\n",
       "    <tr>\n",
       "      <th>4</th>\n",
       "      <td>short_email</td>\n",
       "      <td>generic</td>\n",
       "      <td>13</td>\n",
       "      <td>Friday</td>\n",
       "      <td>UK</td>\n",
       "      <td>1</td>\n",
       "      <td>0</td>\n",
       "      <td>0</td>\n",
       "    </tr>\n",
       "    <tr>\n",
       "      <th>...</th>\n",
       "      <td>...</td>\n",
       "      <td>...</td>\n",
       "      <td>...</td>\n",
       "      <td>...</td>\n",
       "      <td>...</td>\n",
       "      <td>...</td>\n",
       "      <td>...</td>\n",
       "      <td>...</td>\n",
       "    </tr>\n",
       "    <tr>\n",
       "      <th>4233</th>\n",
       "      <td>long_email</td>\n",
       "      <td>personalized</td>\n",
       "      <td>8</td>\n",
       "      <td>Tuesday</td>\n",
       "      <td>US</td>\n",
       "      <td>0</td>\n",
       "      <td>0</td>\n",
       "      <td>0</td>\n",
       "    </tr>\n",
       "    <tr>\n",
       "      <th>4234</th>\n",
       "      <td>long_email</td>\n",
       "      <td>generic</td>\n",
       "      <td>9</td>\n",
       "      <td>Wednesday</td>\n",
       "      <td>US</td>\n",
       "      <td>0</td>\n",
       "      <td>0</td>\n",
       "      <td>0</td>\n",
       "    </tr>\n",
       "    <tr>\n",
       "      <th>4235</th>\n",
       "      <td>short_email</td>\n",
       "      <td>personalized</td>\n",
       "      <td>8</td>\n",
       "      <td>Monday</td>\n",
       "      <td>FR</td>\n",
       "      <td>0</td>\n",
       "      <td>0</td>\n",
       "      <td>0</td>\n",
       "    </tr>\n",
       "    <tr>\n",
       "      <th>4236</th>\n",
       "      <td>short_email</td>\n",
       "      <td>personalized</td>\n",
       "      <td>6</td>\n",
       "      <td>Sunday</td>\n",
       "      <td>UK</td>\n",
       "      <td>0</td>\n",
       "      <td>1</td>\n",
       "      <td>0</td>\n",
       "    </tr>\n",
       "    <tr>\n",
       "      <th>4237</th>\n",
       "      <td>short_email</td>\n",
       "      <td>personalized</td>\n",
       "      <td>7</td>\n",
       "      <td>Monday</td>\n",
       "      <td>US</td>\n",
       "      <td>7</td>\n",
       "      <td>1</td>\n",
       "      <td>1</td>\n",
       "    </tr>\n",
       "  </tbody>\n",
       "</table>\n",
       "<p>4238 rows × 8 columns</p>\n",
       "</div>"
      ],
      "text/plain": [
       "       email_text email_version  hour    weekday user_country  \\\n",
       "0     short_email       generic     8     Friday           US   \n",
       "1     short_email       generic    11    Tuesday           US   \n",
       "2      long_email       generic    12     Monday           US   \n",
       "3      long_email       generic     9     Friday           US   \n",
       "4     short_email       generic    13     Friday           UK   \n",
       "...           ...           ...   ...        ...          ...   \n",
       "4233   long_email  personalized     8    Tuesday           US   \n",
       "4234   long_email       generic     9  Wednesday           US   \n",
       "4235  short_email  personalized     8     Monday           FR   \n",
       "4236  short_email  personalized     6     Sunday           UK   \n",
       "4237  short_email  personalized     7     Monday           US   \n",
       "\n",
       "      user_past_purchases  opened  clicked  \n",
       "0                       2       1        0  \n",
       "1                      11       1        1  \n",
       "2                      11       1        1  \n",
       "3                       9       0        0  \n",
       "4                       1       0        0  \n",
       "...                   ...     ...      ...  \n",
       "4233                    0       0        0  \n",
       "4234                    0       0        0  \n",
       "4235                    0       0        0  \n",
       "4236                    0       1        0  \n",
       "4237                    7       1        1  \n",
       "\n",
       "[4238 rows x 8 columns]"
      ]
     },
     "execution_count": 32,
     "metadata": {},
     "output_type": "execute_result"
    }
   ],
   "source": [
    "new_df"
   ]
  },
  {
   "cell_type": "code",
   "execution_count": 33,
   "id": "ad934a93",
   "metadata": {},
   "outputs": [
    {
     "data": {
      "text/plain": [
       "clicked\n",
       "0    2119\n",
       "1    2119\n",
       "Name: count, dtype: int64"
      ]
     },
     "execution_count": 33,
     "metadata": {},
     "output_type": "execute_result"
    }
   ],
   "source": [
    "new_df['clicked'].value_counts()"
   ]
  },
  {
   "cell_type": "code",
   "execution_count": 34,
   "id": "06ed7820",
   "metadata": {},
   "outputs": [],
   "source": [
    "total_emails = new_df.shape[0]\n",
    "opened = new_df[\"opened\"].sum()\n",
    "clicked = new_df[\"clicked\"].sum()"
   ]
  },
  {
   "cell_type": "code",
   "execution_count": 35,
   "id": "04f0462c",
   "metadata": {},
   "outputs": [
    {
     "name": "stdout",
     "output_type": "stream",
     "text": [
      "Total Emails Sent: 4238\n",
      "Open Rate: 53.11%\n",
      "Click Rate: 50.00%\n",
      "Click to Open Rate: 94.14%\n"
     ]
    }
   ],
   "source": [
    "print(f\"Total Emails Sent: {total_emails}\")\n",
    "print(f\"Open Rate: {opened / total_emails:.2%}\")\n",
    "print(f\"Click Rate: {clicked / total_emails:.2%}\")\n",
    "print(f\"Click to Open Rate: {clicked / opened:.2%}\")"
   ]
  },
  {
   "cell_type": "markdown",
   "id": "e8c1202c",
   "metadata": {},
   "source": [
    "## Comparing Click Through Rate based on length of email [short and long]"
   ]
  },
  {
   "cell_type": "code",
   "execution_count": 36,
   "id": "b8252288",
   "metadata": {},
   "outputs": [
    {
     "name": "stdout",
     "output_type": "stream",
     "text": [
      "email_text     long_email  short_email\n",
      "email_version                         \n",
      "generic          0.395881     0.436249\n",
      "personalized     0.527928     0.592337\n"
     ]
    },
    {
     "data": {
      "image/png": "[encoded data removed]",
      "text/plain": [
       "<Figure size 800x500 with 1 Axes>"
      ]
     },
     "metadata": {},
     "output_type": "display_data"
    }
   ],
   "source": [
    "pivot = new_df.groupby([\"email_version\", \"email_text\"])[\"clicked\"].mean().unstack()\n",
    "print(pivot)\n",
    "pivot.plot(kind='bar', figsize=(8, 5), title=\"Click-through Rate by Email Type\")\n",
    "plt.ylabel(\"Click Rate\")\n",
    "plt.show()"
   ]
  },
  {
   "cell_type": "markdown",
   "id": "6d6d4c20",
   "metadata": {},
   "source": [
    "## Visualising the click through rate by weekday"
   ]
  },
  {
   "cell_type": "code",
   "execution_count": 37,
   "id": "f6fd6c11",
   "metadata": {},
   "outputs": [
    {
     "data": {
      "image/png": "[encoded data removed]",
      "text/plain": [
       "<Figure size 640x480 with 1 Axes>"
      ]
     },
     "metadata": {},
     "output_type": "display_data"
    }
   ],
   "source": [
    "weekday_ctr = new_df.groupby(\"weekday\")[\"clicked\"].mean()\n",
    "weekday_ctr.plot(kind='bar', title=\"Click-through Rate by Weekday\")\n",
    "plt.ylabel(\"Click Rate\")\n",
    "plt.show()"
   ]
  },
  {
   "cell_type": "markdown",
   "id": "463287c3",
   "metadata": {},
   "source": [
    "## Feature Engineering"
   ]
  },
  {
   "cell_type": "code",
   "execution_count": 38,
   "id": "316a17a6",
   "metadata": {},
   "outputs": [],
   "source": [
    "features = [\"hour\", \"weekday\", \"user_country\", \"email_text\", \"email_version\", \"user_past_purchases\"]\n",
    "X = new_df[features].copy()\n",
    "y = new_df[\"clicked\"]"
   ]
  },
  {
   "cell_type": "code",
   "execution_count": 39,
   "id": "f75c9d6b",
   "metadata": {},
   "outputs": [],
   "source": [
    "le_text = LabelEncoder()\n",
    "le_version = LabelEncoder()\n",
    "le_country = LabelEncoder()\n",
    "le_day = LabelEncoder()"
   ]
  },
  {
   "cell_type": "code",
   "execution_count": 40,
   "id": "597497ad",
   "metadata": {},
   "outputs": [],
   "source": [
    "X[\"email_text\"] = le_text.fit_transform(X[\"email_text\"])\n",
    "X[\"email_version\"] = le_version.fit_transform(X[\"email_version\"])\n",
    "X[\"user_country\"] = le_country.fit_transform(X[\"user_country\"])\n",
    "X[\"weekday\"] = le_day.fit_transform(X[\"weekday\"])"
   ]
  },
  {
   "cell_type": "markdown",
   "id": "620a3684",
   "metadata": {},
   "source": [
    "## Splitting the Dataset"
   ]
  },
  {
   "cell_type": "code",
   "execution_count": 41,
   "id": "8c1954bb",
   "metadata": {},
   "outputs": [],
   "source": [
    "X_train, X_test, y_train, y_test = train_test_split(X, y, test_size=0.3, random_state=42)"
   ]
  },
  {
   "cell_type": "markdown",
   "id": "3bf004e9",
   "metadata": {},
   "source": [
    "## Training the model"
   ]
  },
  {
   "cell_type": "code",
   "execution_count": 42,
   "id": "2f950948",
   "metadata": {},
   "outputs": [],
   "source": [
    "scale = (y_train.shape[0] - sum(y_train)) / sum(y_train)"
   ]
  },
  {
   "cell_type": "code",
   "execution_count": 43,
   "id": "71779f5b",
   "metadata": {},
   "outputs": [],
   "source": [
    "xgb_model2 = XGBClassifier(\n",
    "    use_label_encoder=False,\n",
    "    eval_metric='logloss',\n",
    "    scale_pos_weight=scale,\n",
    "    random_state=42\n",
    ")"
   ]
  },
  {
   "cell_type": "code",
   "execution_count": 44,
   "id": "639b1074",
   "metadata": {},
   "outputs": [
    {
     "name": "stderr",
     "output_type": "stream",
     "text": [
      "C:\\Users\\amanr\\AppData\\Roaming\\Python\\Python312\\site-packages\\xgboost\\training.py:183: UserWarning: [03:29:12] WARNING: C:\\actions-runner\\_work\\xgboost\\xgboost\\src\\learner.cc:738: \n",
      "Parameters: { \"use_label_encoder\" } are not used.\n",
      "\n",
      "  bst.update(dtrain, iteration=i, fobj=obj)\n"
     ]
    }
   ],
   "source": [
    "xgb_model2.fit(X_train, y_train);"
   ]
  },
  {
   "cell_type": "markdown",
   "id": "47b9cad7",
   "metadata": {},
   "source": [
    "## Classification Report:"
   ]
  },
  {
   "cell_type": "code",
   "execution_count": 45,
   "id": "b2b63a5d",
   "metadata": {},
   "outputs": [],
   "source": [
    "y_pred = xgb_model2.predict(X_test)\n",
    "y_proba = xgb_model2.predict_proba(X_test)[:, 1]"
   ]
  },
  {
   "cell_type": "code",
   "execution_count": 46,
   "id": "2abdcb6a",
   "metadata": {},
   "outputs": [
    {
     "name": "stdout",
     "output_type": "stream",
     "text": [
      "              precision    recall  f1-score   support\n",
      "\n",
      "           0       0.61      0.56      0.59       639\n",
      "           1       0.59      0.64      0.62       633\n",
      "\n",
      "    accuracy                           0.60      1272\n",
      "   macro avg       0.60      0.60      0.60      1272\n",
      "weighted avg       0.60      0.60      0.60      1272\n",
      "\n",
      "ROC-AUC Score: 0.6645293915502847\n"
     ]
    }
   ],
   "source": [
    "print(classification_report(y_test, y_pred))\n",
    "print(\"ROC-AUC Score:\", roc_auc_score(y_test, y_proba))"
   ]
  },
  {
   "cell_type": "code",
   "execution_count": 47,
   "id": "0b92aab0",
   "metadata": {},
   "outputs": [
    {
     "data": {
      "image/png": "[encoded data removed]",
      "text/plain": [
       "<Figure size 640x480 with 2 Axes>"
      ]
     },
     "metadata": {},
     "output_type": "display_data"
    }
   ],
   "source": [
    "sns.heatmap(confusion_matrix(y_test, y_pred), annot=True, fmt=\"d\", cmap=\"Blues\")\n",
    "plt.title(\"Confusion Matrix\")\n",
    "plt.show()"
   ]
  },
  {
   "cell_type": "markdown",
   "id": "26b753a5",
   "metadata": {},
   "source": [
    "## Most Important Features"
   ]
  },
  {
   "cell_type": "code",
   "execution_count": 48,
   "id": "6fe0a2aa",
   "metadata": {},
   "outputs": [
    {
     "data": {
      "image/png": "[encoded data removed]",
      "text/plain": [
       "<Figure size 640x480 with 1 Axes>"
      ]
     },
     "metadata": {},
     "output_type": "display_data"
    }
   ],
   "source": [
    "feat_imp = pd.Series(xgb_model2.feature_importances_, index=X.columns)\n",
    "feat_imp.sort_values().plot(kind=\"barh\", title=\"Feature Importance\")\n",
    "plt.xlabel(\"Importance Score\")\n",
    "plt.show()"
   ]
  },
  {
   "cell_type": "markdown",
   "id": "163d5e4f",
   "metadata": {},
   "source": [
    "Features such as **user_past_purchases**, **use_country** and **email_version** play a significant role in predicting whether a user will click an email. This suggests that past user behavior and the type of email they received are important factors to consider when optimizing future campaigns."
   ]
  },
  {
   "cell_type": "code",
   "execution_count": 49,
   "id": "782c3c0f",
   "metadata": {},
   "outputs": [
    {
     "data": {
      "image/png": "[encoded data removed]",
      "text/plain": [
       "<Figure size 640x480 with 2 Axes>"
      ]
     },
     "metadata": {},
     "output_type": "display_data"
    }
   ],
   "source": [
    "from sklearn.inspection import PartialDependenceDisplay\n",
    "import matplotlib.pyplot as plt\n",
    "\n",
    "PartialDependenceDisplay.from_estimator(\n",
    "    xgb_model2,\n",
    "    X_test,\n",
    "    ['user_past_purchases'],\n",
    "    kind='average', \n",
    "    grid_resolution=100\n",
    ")\n",
    "plt.title(\"Partial Dependence of Click Probability on User Past Purchases\")\n",
    "plt.show()\n"
   ]
  },
  {
   "cell_type": "markdown",
   "id": "74ce67af",
   "metadata": {},
   "source": [
    "As the number of purchases increases, the click rate increses, portraying loyalty."
   ]
  },
  {
   "cell_type": "markdown",
   "id": "60d1b614",
   "metadata": {},
   "source": [
    "## Click Through Rate"
   ]
  },
  {
   "cell_type": "code",
   "execution_count": 50,
   "id": "6204111d",
   "metadata": {},
   "outputs": [
    {
     "name": "stdout",
     "output_type": "stream",
     "text": [
      "Baseline CTR: 49.76%\n",
      "Model-Predicted Top 30% CTR: 65.71%\n",
      "Estimated Improvement: 15.94%\n"
     ]
    }
   ],
   "source": [
    "X_test_copy = X_test.copy()\n",
    "X_test_copy[\"proba\"] = y_proba\n",
    "X_test_copy[\"actual\"] = y_test.values\n",
    "\n",
    "threshold = X_test_copy[\"proba\"].quantile(0.70)\n",
    "top_users = X_test_copy[X_test_copy[\"proba\"] >= threshold]\n",
    "\n",
    "model_ctr = top_users[\"actual\"].mean()\n",
    "baseline_ctr = y_test.mean()\n",
    "\n",
    "print(f\"Baseline CTR: {baseline_ctr:.2%}\")\n",
    "print(f\"Model-Predicted Top 30% CTR: {model_ctr:.2%}\")\n",
    "print(f\"Estimated Improvement: {model_ctr - baseline_ctr:.2%}\")"
   ]
  },
  {
   "cell_type": "markdown",
   "id": "8c63fb12",
   "metadata": {},
   "source": [
    "## INSIGHTS:\n",
    "\n",
    "- **Email Open Rate**: Around 53.11%\n",
    "- **Click Rate**: Around 50.00%\n",
    "- **Best Performing Segment**: Short + Personalised emails sent to previous customers on weekdays before noon.\n",
    "- **Model ROC-AUC**: 0.677 (better for classification)\n",
    "- **Most Important Features**: `user_past_purchases`, `email_version`, `hour`\n",
    "- **CTR Boost**: 16.02% if targeting top 30% predicted users"
   ]
  },
  {
   "cell_type": "markdown",
   "id": "786351df",
   "metadata": {},
   "source": [
    "The second model predicts the click better although its accuracy is only 67% compared to the first model (71%) trained on the complete (imbalanced dataset) as the first model only predicts no clicks, and it being the majority class by almost the same margin."
   ]
  },
  {
   "cell_type": "markdown",
   "id": "e9192422",
   "metadata": {},
   "source": [
    "On the other hand the second model not only predicts no clicks, but also predicts the clicks which was absent in the earlier classification model."
   ]
  }
 ],
 "metadata": {
  "kernelspec": {
   "display_name": "Python 3",
   "language": "python",
   "name": "python3"
  },
  "language_info": {
   "codemirror_mode": {
    "name": "ipython",
    "version": 3
   },
   "file_extension": ".py",
   "mimetype": "text/x-python",
   "name": "python",
   "nbconvert_exporter": "python",
   "pygments_lexer": "ipython3",
   "version": "3.12.5"
  }
 },
 "nbformat": 4,
 "nbformat_minor": 5
}
